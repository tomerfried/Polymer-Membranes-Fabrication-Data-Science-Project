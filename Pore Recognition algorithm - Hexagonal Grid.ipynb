{
 "cells": [
  {
   "cell_type": "code",
   "execution_count": 12,
   "id": "72b0c842",
   "metadata": {},
   "outputs": [],
   "source": [
    "import cv2\n",
    "import numpy as np\n",
    "import os\n",
    "import math\n",
    "from heapq import nsmallest\n",
    "import random\n",
    "import functools"
   ]
  },
  {
   "cell_type": "code",
   "execution_count": 13,
   "id": "5725449e",
   "metadata": {},
   "outputs": [],
   "source": [
    "def contour_circularity(contour):\n",
    "    # calculates how close is a contour to a circle shape\n",
    "    perimeter = cv2.arcLength(contour,True)\n",
    "    area = cv2.contourArea(contour)\n",
    "    circularity = (4*math.pi*area)/(perimeter**2)\n",
    "    return circularity"
   ]
  },
  {
   "cell_type": "code",
   "execution_count": 14,
   "id": "880e61b5",
   "metadata": {},
   "outputs": [],
   "source": [
    "def contour_centroid(contour):\n",
    "    # calculates the center point of a contour\n",
    "    hull = cv2.convexHull(contour)\n",
    "    M = cv2.moments(hull)\n",
    "    cX = int(M[\"m10\"] / M[\"m00\"])\n",
    "    cY = int(M[\"m01\"] / M[\"m00\"])\n",
    "    \n",
    "    return [cX, cY]"
   ]
  },
  {
   "cell_type": "code",
   "execution_count": 15,
   "id": "1f9f1345",
   "metadata": {},
   "outputs": [],
   "source": [
    "def get_hexagon(centroids, index):\n",
    "    # finds the 6 closest centroids to a given centroid\n",
    "    # returns the minimal ellipse which bounds the hexagon (which is made out of these centroids)\n",
    "    x1, y1 = centroids[index]\n",
    "    distances_dict = {}\n",
    "\n",
    "    for j in range(len(centroids)):\n",
    "        x2, y2 = centroids[j]\n",
    "        if (x1 == x2) and (y1==y2):\n",
    "            continue\n",
    "        else:\n",
    "            dist = math.hypot(x2-x1, y2-y1)\n",
    "            distances_dict[(x2,y2)]=dist\n",
    "\n",
    "    vertices_list = nsmallest(6, distances_dict, key = distances_dict.get)\n",
    "    \n",
    "    # the order of the vertices in 'vertices_list' is the order of connecting the dots of the hexagon\n",
    "    # because of that, here we choose the order of vertices that creates a non-intersecting hexagon\n",
    "    center = functools.reduce(lambda a, b: (a[0] + b[0], a[1] + b[1]), vertices_list, (0, 0))\n",
    "    center = (center[0] / len(vertices_list), (center[1] / len(vertices_list)))\n",
    "    vertices_list.sort(key = lambda a: math.atan2(a[1] - center[1], a[0] - center[0]))\n",
    "    \n",
    "    if len(vertices_list) == 6:\n",
    "        return vertices_list\n",
    "    else:\n",
    "        return False\n"
   ]
  },
  {
   "cell_type": "code",
   "execution_count": 16,
   "id": "798f92a6",
   "metadata": {},
   "outputs": [],
   "source": [
    "def is_edge_contour(contour):\n",
    "    \n",
    "    for dot in contour:\n",
    "        width_val, height_val = dot[0][0], dot[0][1]\n",
    "        # 684 and 1003 represent the last pixel of each image's height and width, respectively\n",
    "        if width_val<=0 or (height_val<=0) or (width_val>=1003) or (height_val>=683):\n",
    "            return True\n",
    "\n",
    "    return False\n",
    "    "
   ]
  },
  {
   "cell_type": "code",
   "execution_count": 17,
   "id": "8fd78559",
   "metadata": {},
   "outputs": [],
   "source": [
    "def is_edge_point(point):\n",
    "    \n",
    "    width_val, height_val = point[0], point[1]\n",
    "    # 684 and 1003 represent the last pixel of each image's height and width, respectively\n",
    "    if width_val<=30 or (height_val<=50) or (width_val>=953) or (height_val>=633):\n",
    "        return True\n",
    "\n",
    "    return False\n",
    "    "
   ]
  },
  {
   "cell_type": "code",
   "execution_count": 18,
   "id": "6a4770bb",
   "metadata": {},
   "outputs": [],
   "source": [
    "def pores_selector(img_dir):\n",
    "    imageMat = cv2.imread(img_dir)\n",
    "    \n",
    "    #Select blue channel\n",
    "    blueChannelMat = imageMat[:,:,0]\n",
    "    \n",
    "    # if an image is overly dark, CLAHE will be done on it\n",
    "    if np.mean(blueChannelMat) <= 85:\n",
    "        clahe = cv2.createCLAHE(clipLimit=4.0, tileGridSize=[4,4])# \n",
    "        blueChannelMat = clahe.apply(blueChannelMat)\n",
    "    \n",
    "    #Mean filtering (the larger the filtering window, the more serious the image distortion is, the more blurred it is)\n",
    "    blurMat = cv2.blur(blueChannelMat,(5,5))#5,5 means that the convolution kernel size is 5x5\n",
    "    \n",
    "    #Adaptive threshold segmentation\n",
    "    thresMat = cv2.adaptiveThreshold(blurMat, 255,cv2.ADAPTIVE_THRESH_GAUSSIAN_C, cv2.THRESH_BINARY_INV, 25, 15)\n",
    "\n",
    "    #Find the contours of the image. The parameters indicate that only the outer contour is detected and \n",
    "    # all contour points are stored\n",
    "    contours,hierarchy=cv2.findContours(thresMat,cv2.RETR_EXTERNAL,cv2.CHAIN_APPROX_NONE)\n",
    "    \n",
    "    # mean pore size is calculated \n",
    "    allContoursArea = [cv2.contourArea(contours[i]) for i in range(len(contours))]\n",
    "    mean_pore_size = np.mean(allContoursArea)\n",
    "    # in this loop, we filter unwnated contours\n",
    "    # and calculate centroid for each wanted contour\n",
    "    centroids = []\n",
    "        \n",
    "    for i in range(len(contours)):\n",
    "        \n",
    "        #filters out pores which are on the edges of the image\n",
    "        if is_edge_contour(contours[i]):\n",
    "            continue\n",
    "        \n",
    "        contour_area = cv2.contourArea(contours[i])\n",
    "         #filters contours which are too small to be a pore\n",
    "        if contour_area < (mean_pore_size/2):\n",
    "            continue\n",
    "\n",
    "        else:\n",
    "            # calculation of centroid\n",
    "            cX, cY = contour_centroid(contours[i])\n",
    "            centroids.append([cX,cY])\n",
    "        \n",
    "\n",
    "        # contours and centroids are drawn on the image\n",
    "        cv2.drawContours(imageMat,[contours[i]],-1,(0,255,0),1)\n",
    "        cv2.circle(imageMat, (cX, cY), 1, (255, 255, 255), 2)\n",
    "        \n",
    "          \n",
    "    # this section is dedicated to recognition of hexagons\n",
    "    # the list below stores the circularities of each hexagon\n",
    "    hexagon_circ_list = []\n",
    "    \n",
    "    for i in range(len(centroids)):\n",
    "        # filters polygons which their center is an edge point\n",
    "        if is_edge_point(centroids[i]):\n",
    "            continue\n",
    "        \n",
    "        # vertices_list - vertices of the hexagon\n",
    "        vertices_list = get_hexagon(centroids, i)\n",
    "        if vertices_list:\n",
    "            hexagon_contour = np.array(vertices_list).reshape((-1,1,2)).astype(np.int32)\n",
    "            # the closer 'hexagon_circ' is to 1 - the more it is similair to a circle\n",
    "            hexagon_circ = contour_circularity(hexagon_contour)\n",
    "            hexagon_circ_list.append(hexagon_circ)\n",
    "\n",
    "        # hexagons are drawn on the image\n",
    "        rand_num = random.randrange(0,len(centroids)-1)\n",
    "        if i == rand_num:\n",
    "            cv2.drawContours(imageMat,[hexagon_contour],-1,(255,0,0),5)\n",
    "            cv2.circle(imageMat, centroids[i], 1, (0, 0, 150), 2)\n",
    "        else:\n",
    "            cv2.drawContours(imageMat,[hexagon_contour],-1,(255,0,0),1)\n",
    "    \n",
    "    \n",
    "    # the closer of this value to 1 - the more symmetric the hexagonal grid is\n",
    "    circularity_mean = np.mean(hexagon_circ_list)\n",
    "  \n",
    "    \n",
    "    return imageMat, circularity_mean\n"
   ]
  },
  {
   "cell_type": "code",
   "execution_count": 21,
   "id": "a2bb837e",
   "metadata": {},
   "outputs": [
    {
     "name": "stdout",
     "output_type": "stream",
     "text": [
      "0.6440637005444279\n"
     ]
    },
    {
     "data": {
      "text/plain": [
       "-1"
      ]
     },
     "execution_count": 21,
     "metadata": {},
     "output_type": "execute_result"
    }
   ],
   "source": [
    "# this block is used to show how 'pores_selector' works on a single image\n",
    "img_dir = 'images\\\\hex\\\\images cropped\\\\S20072_P(VBCB-co-S)81P4VP19-159K-5s-200um-24wt%_003.tif'\n",
    "#img_dir = 'images\\\\hex\\\\images cropped\\\\S17254_PS84P4VP16_210k_29%_60DMF-40THF_5s_003.tif'\n",
    "#img_dir = 'images\\\\hex\\\\images cropped\\\\S16250_31%_PS83.2P4VP16.8_113k_10sAir_18sTHF_50DMF_50THF_001.tif'\n",
    "im_with_selection, circularity_mean = pores_selector(img_dir)\n",
    "cv2.imshow(\"b\",im_with_selection)#Display image\n",
    "print(circularity_mean)\n",
    "cv2.waitKey()"
   ]
  },
  {
   "cell_type": "code",
   "execution_count": null,
   "id": "33b1cc20",
   "metadata": {},
   "outputs": [],
   "source": [
    "file_names = os.listdir('images\\\\hex\\\\images cropped')\n",
    "count = 0\n",
    "images_selected = {}\n",
    "for file_name in file_names:\n",
    "    img_dir = 'images\\\\hex\\\\images cropped\\\\'+file_name\n",
    "    imageMat, circularity_mean = pores_selector(img_dir)\n",
    "    images_selected[file_name] = circularity_mean\n",
    "\n",
    "    count+=1 \n",
    "    if count%100 == 0: # shows process\n",
    "        print(count)"
   ]
  }
 ],
 "metadata": {
  "kernelspec": {
   "display_name": "pyimagej",
   "language": "python",
   "name": "pyimagej"
  },
  "language_info": {
   "codemirror_mode": {
    "name": "ipython",
    "version": 3
   },
   "file_extension": ".py",
   "mimetype": "text/x-python",
   "name": "python",
   "nbconvert_exporter": "python",
   "pygments_lexer": "ipython3",
   "version": "3.8.0"
  }
 },
 "nbformat": 4,
 "nbformat_minor": 5
}
